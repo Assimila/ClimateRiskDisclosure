{
 "cells": [
  {
   "cell_type": "code",
   "execution_count": 5,
   "metadata": {
    "ExecuteTime": {
     "end_time": "2020-03-09T10:35:23.074944Z",
     "start_time": "2020-03-09T10:35:23.069302Z"
    },
    "hide_input": false,
    "init_cell": true
   },
   "outputs": [],
   "source": [
    "import os\n",
    "\n",
    "import matplotlib\n",
    "\n",
    "import matplotlib.cm as cm\n",
    "import matplotlib.animation as animation\n",
    "\n",
    "import matplotlib.cbook as cbook\n",
    "import matplotlib.image as image\n",
    "\n",
    "matplotlib.use('nbagg')\n",
    "import matplotlib.pyplot as plt\n",
    "\n",
    "import gdal\n",
    "import numpy as np\n",
    "import xarray as xr\n",
    "\n",
    "import ipywidgets as widgets\n",
    "import pandas as pd\n",
    "\n",
    "from IPython.display import clear_output\n",
    "from IPython.display import display"
   ]
  },
  {
   "cell_type": "code",
   "execution_count": 6,
   "metadata": {
    "ExecuteTime": {
     "end_time": "2020-03-09T10:35:23.702366Z",
     "start_time": "2020-03-09T10:35:23.659609Z"
    },
    "hide_input": false,
    "init_cell": true
   },
   "outputs": [],
   "source": [
    "def get_chunk_size(filename):\n",
    "    \"\"\"\n",
    "    Extract the block size and raster count so that the\n",
    "    chunks tuple can be formed, a parameter needed to read\n",
    "    a dataset using xr.open_rasterio() using DASK.\n",
    "    :param filename: GDAL valid file.\n",
    "    :return: tuple raster count, x block size, y block size\n",
    "    \"\"\"\n",
    "\n",
    "    # Extract raster count and block size from file\n",
    "    d = gdal.Open(filename)\n",
    "    raster_count = d.RasterCount\n",
    "    # Get internal block size from first band\n",
    "    b = d.GetRasterBand(1)\n",
    "    block_size = b.GetBlockSize()\n",
    "    chunks = (raster_count, block_size[0], block_size[1])\n",
    "\n",
    "    return chunks\n",
    "\n",
    "def get_times_from_file_band(fname):\n",
    "    \"\"\"\n",
    "    Extract time info from band metadata\n",
    "    \"\"\"\n",
    "    d = gdal.Open(fname)\n",
    "    # Get dataset metadata\n",
    "    dmd = d.GetMetadata()\n",
    "    bands = d.RasterCount\n",
    "\n",
    "    # Empty times list\n",
    "    times = []\n",
    "\n",
    "    for band in range(bands):\n",
    "        b = d.GetRasterBand(band+1)\n",
    "        # Get band metadata\n",
    "        md = b.GetMetadata()\n",
    "\n",
    "        # Get fields with date info\n",
    "        key = 'RANGEBEGINNINGDATE'\n",
    "        if key in md:\n",
    "            start_date = md['RANGEBEGINNINGDATE']\n",
    "        elif key in dmd:\n",
    "            start_date = dmd['RANGEBEGINNINGDATE']\n",
    "        else:\n",
    "            err_msg = f\"File {fname} does not have date information\"\n",
    "            raise Exception(err_msg)\n",
    "\n",
    "        times.append(np.datetime64(start_date))\n",
    "\n",
    "    return times"
   ]
  },
  {
   "cell_type": "code",
   "execution_count": 14,
   "metadata": {
    "ExecuteTime": {
     "end_time": "2020-03-09T10:38:33.676153Z",
     "start_time": "2020-03-09T10:38:33.550574Z"
    },
    "hide_input": false,
    "init_cell": true
   },
   "outputs": [
    {
     "name": "stdout",
     "output_type": "stream",
     "text": [
      "../ERA5/US/t2m/t2m.tif\n"
     ]
    }
   ],
   "source": [
    "# Get monthly ERA5 data\n",
    "variable = 't2m'\n",
    "#datadir = '/home/glopez/Projects/ClimateRiskDisclosure/ERA5'\n",
    "datadir = '../ERA5/US'\n",
    "\n",
    "fname = os.path.join(datadir, variable, f'{variable}.tif')\n",
    "print(fname)\n",
    "times = get_times_from_file_band(fname)\n",
    "\n",
    "chunks = get_chunk_size(fname)\n",
    "#data_array = xr.open_rasterio(fname, chunks=chunks)\n",
    "data_array = xr.open_rasterio(fname)\n",
    "\n",
    "data_array = data_array.rename(\n",
    "    {'x': 'longitude',\n",
    "     'y': 'latitude',\n",
    "     'band': 'time'})\n",
    "\n",
    "data_array['time'] = times"
   ]
  },
  {
   "cell_type": "code",
   "execution_count": 13,
   "metadata": {
    "ExecuteTime": {
     "end_time": "2020-03-09T10:38:26.658927Z",
     "start_time": "2020-03-09T10:38:26.512485Z"
    }
   },
   "outputs": [
    {
     "name": "stdout",
     "output_type": "stream",
     "text": [
      "\u001b[0m\u001b[01;34mt2m\u001b[0m/                  \u001b[01;34mu_component_of_wind_10m\u001b[0m/  \u001b[01;34mwind_power\u001b[0m/\r\n",
      "\u001b[01;34mtotal_precipitation\u001b[0m/  \u001b[01;34mv_component_of_wind_10m\u001b[0m/\r\n"
     ]
    }
   ],
   "source": [
    "ls ../ERA5/US"
   ]
  },
  {
   "cell_type": "code",
   "execution_count": null,
   "metadata": {
    "ExecuteTime": {
     "end_time": "2020-03-09T10:33:00.086250Z",
     "start_time": "2020-03-09T10:32:59.271Z"
    },
    "hide_input": false,
    "init_cell": true
   },
   "outputs": [],
   "source": [
    "# Get ERA5 t2m stats from daily data\n",
    "fname = os.path.join(datadir, variable, f'US_REGIONS_mean_{variable}.tif')\n",
    "_mean = xr.open_rasterio(fname)\n",
    "\n",
    "fname = os.path.join(datadir, variable, f'US_REGIONS_std_{variable}.tif')\n",
    "_std = xr.open_rasterio(fname)"
   ]
  },
  {
   "cell_type": "code",
   "execution_count": null,
   "metadata": {
    "ExecuteTime": {
     "end_time": "2020-03-09T10:33:00.087943Z",
     "start_time": "2020-03-09T10:32:59.275Z"
    },
    "hide_input": false,
    "init_cell": true
   },
   "outputs": [],
   "source": [
    "# Derive the proxy to the Warm Temperature Index\n",
    "wti = xr.zeros_like(data_array)"
   ]
  },
  {
   "cell_type": "code",
   "execution_count": null,
   "metadata": {
    "ExecuteTime": {
     "end_time": "2020-03-09T10:33:00.089322Z",
     "start_time": "2020-03-09T10:32:59.277Z"
    },
    "hide_input": false,
    "init_cell": true,
    "scrolled": true
   },
   "outputs": [],
   "source": [
    "for i, layer in enumerate(data_array):\n",
    "    wti.data[i] = (data_array.data[i] - _mean.data) / _std.data"
   ]
  },
  {
   "cell_type": "code",
   "execution_count": null,
   "metadata": {
    "ExecuteTime": {
     "end_time": "2020-03-09T10:33:00.090969Z",
     "start_time": "2020-03-09T10:32:59.279Z"
    },
    "hide_input": false,
    "init_cell": true
   },
   "outputs": [],
   "source": [
    "def on_dropdown_dates_change(change):\n",
    "    \"\"\"\n",
    "    Handles change event on dropdown_farms widget\n",
    "    \"\"\"\n",
    "    if change['type'] == 'change' and change['name'] == 'value':\n",
    "        ax.clear()\n",
    "\n",
    "        i = np.where(times==dropdown_dates.value)[0][0]\n",
    "        #img = ax.imshow(wti[i], cmap = 'RdBu_r', vmin=-2.5, vmax=2.5)\n",
    "        img = wti[i].plot.imshow(ax = ax, vmin=-2.5, vmax=2.5, cmap = 'RdBu_r', add_colorbar=False)\n",
    "        ax.set_title(f'Monthly {variable} standard anomalies starting on: {times[i].astype(str)}')\n",
    "        ax.set_aspect('equal')\n",
    "\n",
    "        plt.show()\n",
    "        \n",
    "def on_click(event):\n",
    "    \"\"\"\n",
    "    Event handler\n",
    "    \"\"\"\n",
    "    # Event does not apply for time series plot\n",
    "    # Check if the click was in a\n",
    "    if event.inaxes in [bx]:\n",
    "        return\n",
    "    \n",
    "    bx.clear()\n",
    "    \n",
    "    # Delete last reference point\n",
    "    if len(ax.lines) > 0:\n",
    "        del ax.lines[0]\n",
    "\n",
    "    # Draw a point as a reference\n",
    "    ax.plot(event.xdata, event.ydata\n",
    "            ,marker='o', color='red', markersize=7, alpha=0.7)\n",
    "    \n",
    "    _tmp_mean = _mean.sel(x=event.xdata,\n",
    "                             y=event.ydata,\n",
    "                             method='nearest')\n",
    "    \n",
    "    _data = data_array.sel(longitude=event.xdata,\n",
    "                           latitude=event.ydata,\n",
    "                           method='nearest')\n",
    "    _data.plot(ax=bx, label=f'Monthly ERA5 {variable}', color='Grey')\n",
    "    \n",
    "    # Mean\n",
    "    bx.hlines(_tmp_mean.data[0], data_array.time.data[0], data_array.time.data[-1],\n",
    "              colors='k', linestyles='-', lw=1.5, label='Mean')   \n",
    "    \n",
    "    # 90% and 10% percentile\n",
    "    _quantile = _data.quantile([0.1,0.9]).data\n",
    "    bx.hlines(_quantile, data_array.time.data[0], data_array.time.data[-1],\n",
    "              colors='k', linestyles='--', lw=1.0, label='90% and 10% percentiles')\n",
    "    \n",
    "    bx.legend(loc='best', fontsize='small',\n",
    "                  fancybox=True, framealpha=0.5)\n",
    "    \n",
    "    bx.fill_between(data_array.time.data, _quantile[1], _data,\n",
    "                    where=_data >= _quantile[1],\n",
    "                    facecolor='red', interpolate=True, alpha=0.5)\n",
    "    \n",
    "    bx.fill_between(data_array.time.data, _quantile[0], _data,\n",
    "                    where=_data <= _quantile[0],\n",
    "                    facecolor='blue', interpolate=True, alpha=0.5)\n",
    "\n",
    "    title = bx.get_title()\n",
    "    bx.set_title(title, fontdict={'horizontalalignment': 'center'})\n",
    "    \n",
    "    bx.grid()\n"
   ]
  },
  {
   "cell_type": "code",
   "execution_count": null,
   "metadata": {
    "ExecuteTime": {
     "end_time": "2020-03-09T10:33:00.092913Z",
     "start_time": "2020-03-09T10:32:59.281Z"
    },
    "hide_input": false,
    "init_cell": true,
    "scrolled": false
   },
   "outputs": [],
   "source": [
    "# Plot objects\n",
    "fig, (ax, bx) = plt.subplots(2, 1)\n",
    "fig.set_size_inches(10, 8)\n",
    "\n",
    "# Connect the canvas with the event\n",
    "cid = fig.canvas.mpl_connect('button_press_event', on_click)\n",
    "\n",
    "#img = ax.imshow(wti[0], cmap = 'RdBu_r', vmin=-2.5, vmax=2.5)\n",
    "img = wti[0].plot.imshow(ax = ax, cmap = 'RdBu_r', vmin=-2.5, vmax=2.5, add_colorbar=False)\n",
    "ax.set_title(f'Monthly {variable} standard anomalies starting on: {times[0].astype(str)}')\n",
    "ax.set_aspect('equal')\n",
    "cb = fig.colorbar(img, ax=ax)\n",
    "\n",
    "bx.grid()\n",
    "\n",
    "plt.tight_layout()"
   ]
  },
  {
   "cell_type": "markdown",
   "metadata": {
    "hide_input": false
   },
   "source": [
    "## Assimila\n",
    "### ERA 5 2m temperature analysis"
   ]
  },
  {
   "cell_type": "code",
   "execution_count": null,
   "metadata": {
    "ExecuteTime": {
     "end_time": "2020-03-09T10:33:00.094588Z",
     "start_time": "2020-03-09T10:32:59.284Z"
    },
    "hide_input": false,
    "init_cell": true,
    "scrolled": false
   },
   "outputs": [],
   "source": [
    "# Dropdown widget with all farms\n",
    "dropdown_dates = widgets.Dropdown(\n",
    "    options=times,\n",
    "    value=times[0],\n",
    "    description='Date:',\n",
    "    disabled=False,\n",
    ")\n",
    "\n",
    "dropdown_dates.observe(on_dropdown_dates_change)\n",
    "\n",
    "display(dropdown_dates)\n",
    "plt.show()"
   ]
  }
 ],
 "metadata": {
  "celltoolbar": "Initialization Cell",
  "kernelspec": {
   "display_name": "Python 3",
   "language": "python",
   "name": "python3"
  },
  "language_info": {
   "codemirror_mode": {
    "name": "ipython",
    "version": 3
   },
   "file_extension": ".py",
   "mimetype": "text/x-python",
   "name": "python",
   "nbconvert_exporter": "python",
   "pygments_lexer": "ipython3",
   "version": "3.7.6"
  },
  "toc": {
   "base_numbering": 1,
   "nav_menu": {},
   "number_sections": false,
   "sideBar": false,
   "skip_h1_title": false,
   "title_cell": "Table of Contents",
   "title_sidebar": "Contents",
   "toc_cell": false,
   "toc_position": {},
   "toc_section_display": false,
   "toc_window_display": false
  },
  "varInspector": {
   "cols": {
    "lenName": 16,
    "lenType": 16,
    "lenVar": 40
   },
   "kernels_config": {
    "python": {
     "delete_cmd_postfix": "",
     "delete_cmd_prefix": "del ",
     "library": "var_list.py",
     "varRefreshCmd": "print(var_dic_list())"
    },
    "r": {
     "delete_cmd_postfix": ") ",
     "delete_cmd_prefix": "rm(",
     "library": "var_list.r",
     "varRefreshCmd": "cat(var_dic_list()) "
    }
   },
   "types_to_exclude": [
    "module",
    "function",
    "builtin_function_or_method",
    "instance",
    "_Feature"
   ],
   "window_display": false
  }
 },
 "nbformat": 4,
 "nbformat_minor": 2
}
