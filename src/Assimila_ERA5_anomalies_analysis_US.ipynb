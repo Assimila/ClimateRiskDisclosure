{
 "cells": [
  {
   "cell_type": "code",
   "execution_count": 1,
   "metadata": {
    "ExecuteTime": {
     "end_time": "2020-03-09T10:40:50.263698Z",
     "start_time": "2020-03-09T10:40:49.264733Z"
    },
    "hide_input": false,
    "init_cell": true
   },
   "outputs": [],
   "source": [
    "import os\n",
    "\n",
    "import matplotlib\n",
    "\n",
    "import matplotlib.cm as cm\n",
    "import matplotlib.animation as animation\n",
    "\n",
    "import matplotlib.cbook as cbook\n",
    "import matplotlib.image as image\n",
    "\n",
    "matplotlib.use('nbagg')\n",
    "import matplotlib.pyplot as plt\n",
    "\n",
    "import gdal\n",
    "import numpy as np\n",
    "import xarray as xr\n",
    "\n",
    "import ipywidgets as widgets\n",
    "import pandas as pd\n",
    "\n",
    "from IPython.display import clear_output\n",
    "from IPython.display import display"
   ]
  },
  {
   "cell_type": "code",
   "execution_count": 2,
   "metadata": {
    "ExecuteTime": {
     "end_time": "2020-03-09T10:40:50.279964Z",
     "start_time": "2020-03-09T10:40:50.267330Z"
    },
    "hide_input": false,
    "init_cell": true
   },
   "outputs": [],
   "source": [
    "def get_chunk_size(filename):\n",
    "    \"\"\"\n",
    "    Extract the block size and raster count so that the\n",
    "    chunks tuple can be formed, a parameter needed to read\n",
    "    a dataset using xr.open_rasterio() using DASK.\n",
    "    :param filename: GDAL valid file.\n",
    "    :return: tuple raster count, x block size, y block size\n",
    "    \"\"\"\n",
    "\n",
    "    # Extract raster count and block size from file\n",
    "    d = gdal.Open(filename)\n",
    "    raster_count = d.RasterCount\n",
    "    # Get internal block size from first band\n",
    "    b = d.GetRasterBand(1)\n",
    "    block_size = b.GetBlockSize()\n",
    "    chunks = (raster_count, block_size[0], block_size[1])\n",
    "\n",
    "    return chunks\n",
    "\n",
    "def get_times_from_file_band(fname):\n",
    "    \"\"\"\n",
    "    Extract time info from band metadata\n",
    "    \"\"\"\n",
    "    d = gdal.Open(fname)\n",
    "    # Get dataset metadata\n",
    "    dmd = d.GetMetadata()\n",
    "    bands = d.RasterCount\n",
    "\n",
    "    # Empty times list\n",
    "    times = []\n",
    "\n",
    "    for band in range(bands):\n",
    "        b = d.GetRasterBand(band+1)\n",
    "        # Get band metadata\n",
    "        md = b.GetMetadata()\n",
    "\n",
    "        # Get fields with date info\n",
    "        key = 'RANGEBEGINNINGDATE'\n",
    "        if key in md:\n",
    "            start_date = md['RANGEBEGINNINGDATE']\n",
    "        elif key in dmd:\n",
    "            start_date = dmd['RANGEBEGINNINGDATE']\n",
    "        else:\n",
    "            err_msg = f\"File {fname} does not have date information\"\n",
    "            raise Exception(err_msg)\n",
    "\n",
    "        times.append(np.datetime64(start_date))\n",
    "\n",
    "    return times"
   ]
  },
  {
   "cell_type": "code",
   "execution_count": 3,
   "metadata": {
    "ExecuteTime": {
     "end_time": "2020-03-09T10:40:50.291103Z",
     "start_time": "2020-03-09T10:40:50.284778Z"
    },
    "hide_input": false,
    "init_cell": true
   },
   "outputs": [],
   "source": [
    "def get_data(variable):\n",
    "    # Get monthly ERA5 data\n",
    "    #datadir = '/home/glopez/Projects/ClimateRiskDisclosure/ERA5'\n",
    "    datadir = '../ERA5/US'\n",
    "\n",
    "    fname = os.path.join(datadir, variable, f'{variable}.tif')\n",
    "    \n",
    "    times = get_times_from_file_band(fname)\n",
    "\n",
    "    chunks = get_chunk_size(fname)\n",
    "    data_array = xr.open_rasterio(fname)\n",
    "\n",
    "    data_array = data_array.rename(\n",
    "        {'x': 'longitude',\n",
    "         'y': 'latitude',\n",
    "         'band': 'time'})\n",
    "\n",
    "    data_array['time'] = times\n",
    "    \n",
    "    # Get stats \n",
    "    stats = xr.zeros_like(data_array)\n",
    "    _mean = data_array.mean(axis=0)\n",
    "    _std = data_array.std(axis=0)\n",
    "    \n",
    "    # Get standard anomalies\n",
    "    for i, layer in enumerate(data_array):\n",
    "        stats.data[i] = (data_array.data[i] - _mean.data) / _std.data\n",
    "    \n",
    "    return data_array, stats, times"
   ]
  },
  {
   "cell_type": "code",
   "execution_count": 4,
   "metadata": {
    "ExecuteTime": {
     "end_time": "2020-03-09T10:40:50.445059Z",
     "start_time": "2020-03-09T10:40:50.292632Z"
    },
    "hide_input": false,
    "init_cell": true
   },
   "outputs": [
    {
     "ename": "AttributeError",
     "evalue": "'NoneType' object has no attribute 'GetMetadata'",
     "output_type": "error",
     "traceback": [
      "\u001b[0;31m---------------------------------------------------------------------------\u001b[0m",
      "\u001b[0;31mAttributeError\u001b[0m                            Traceback (most recent call last)",
      "\u001b[0;32m<ipython-input-4-49ce2ad5e3ec>\u001b[0m in \u001b[0;36m<module>\u001b[0;34m\u001b[0m\n\u001b[1;32m      8\u001b[0m \u001b[0;32mfor\u001b[0m \u001b[0mvariable\u001b[0m \u001b[0;32min\u001b[0m \u001b[0mvariables\u001b[0m\u001b[0;34m:\u001b[0m\u001b[0;34m\u001b[0m\u001b[0;34m\u001b[0m\u001b[0m\n\u001b[1;32m      9\u001b[0m     \u001b[0;31m# Get anomalies and datasets\u001b[0m\u001b[0;34m\u001b[0m\u001b[0;34m\u001b[0m\u001b[0;34m\u001b[0m\u001b[0m\n\u001b[0;32m---> 10\u001b[0;31m     \u001b[0md\u001b[0m\u001b[0;34m,\u001b[0m \u001b[0ma\u001b[0m\u001b[0;34m,\u001b[0m \u001b[0mt\u001b[0m \u001b[0;34m=\u001b[0m \u001b[0mget_data\u001b[0m\u001b[0;34m(\u001b[0m\u001b[0mvariable\u001b[0m\u001b[0;34m)\u001b[0m\u001b[0;34m\u001b[0m\u001b[0;34m\u001b[0m\u001b[0m\n\u001b[0m\u001b[1;32m     11\u001b[0m     \u001b[0mdatasets\u001b[0m\u001b[0;34m.\u001b[0m\u001b[0mappend\u001b[0m\u001b[0;34m(\u001b[0m\u001b[0md\u001b[0m\u001b[0;34m)\u001b[0m\u001b[0;34m\u001b[0m\u001b[0;34m\u001b[0m\u001b[0m\n\u001b[1;32m     12\u001b[0m     \u001b[0manomalies\u001b[0m\u001b[0;34m.\u001b[0m\u001b[0mappend\u001b[0m\u001b[0;34m(\u001b[0m\u001b[0ma\u001b[0m\u001b[0;34m)\u001b[0m\u001b[0;34m\u001b[0m\u001b[0;34m\u001b[0m\u001b[0m\n",
      "\u001b[0;32m<ipython-input-3-6ec071038484>\u001b[0m in \u001b[0;36mget_data\u001b[0;34m(variable)\u001b[0m\n\u001b[1;32m      4\u001b[0m     \u001b[0mfname\u001b[0m \u001b[0;34m=\u001b[0m \u001b[0mos\u001b[0m\u001b[0;34m.\u001b[0m\u001b[0mpath\u001b[0m\u001b[0;34m.\u001b[0m\u001b[0mjoin\u001b[0m\u001b[0;34m(\u001b[0m\u001b[0mdatadir\u001b[0m\u001b[0;34m,\u001b[0m \u001b[0mvariable\u001b[0m\u001b[0;34m,\u001b[0m \u001b[0;34mf'{variable}.tif'\u001b[0m\u001b[0;34m)\u001b[0m\u001b[0;34m\u001b[0m\u001b[0;34m\u001b[0m\u001b[0m\n\u001b[1;32m      5\u001b[0m \u001b[0;34m\u001b[0m\u001b[0m\n\u001b[0;32m----> 6\u001b[0;31m     \u001b[0mtimes\u001b[0m \u001b[0;34m=\u001b[0m \u001b[0mget_times_from_file_band\u001b[0m\u001b[0;34m(\u001b[0m\u001b[0mfname\u001b[0m\u001b[0;34m)\u001b[0m\u001b[0;34m\u001b[0m\u001b[0;34m\u001b[0m\u001b[0m\n\u001b[0m\u001b[1;32m      7\u001b[0m \u001b[0;34m\u001b[0m\u001b[0m\n\u001b[1;32m      8\u001b[0m     \u001b[0mchunks\u001b[0m \u001b[0;34m=\u001b[0m \u001b[0mget_chunk_size\u001b[0m\u001b[0;34m(\u001b[0m\u001b[0mfname\u001b[0m\u001b[0;34m)\u001b[0m\u001b[0;34m\u001b[0m\u001b[0;34m\u001b[0m\u001b[0m\n",
      "\u001b[0;32m<ipython-input-2-7db1a43baa04>\u001b[0m in \u001b[0;36mget_times_from_file_band\u001b[0;34m(fname)\u001b[0m\n\u001b[1;32m     24\u001b[0m     \u001b[0md\u001b[0m \u001b[0;34m=\u001b[0m \u001b[0mgdal\u001b[0m\u001b[0;34m.\u001b[0m\u001b[0mOpen\u001b[0m\u001b[0;34m(\u001b[0m\u001b[0mfname\u001b[0m\u001b[0;34m)\u001b[0m\u001b[0;34m\u001b[0m\u001b[0;34m\u001b[0m\u001b[0m\n\u001b[1;32m     25\u001b[0m     \u001b[0;31m# Get dataset metadata\u001b[0m\u001b[0;34m\u001b[0m\u001b[0;34m\u001b[0m\u001b[0;34m\u001b[0m\u001b[0m\n\u001b[0;32m---> 26\u001b[0;31m     \u001b[0mdmd\u001b[0m \u001b[0;34m=\u001b[0m \u001b[0md\u001b[0m\u001b[0;34m.\u001b[0m\u001b[0mGetMetadata\u001b[0m\u001b[0;34m(\u001b[0m\u001b[0;34m)\u001b[0m\u001b[0;34m\u001b[0m\u001b[0;34m\u001b[0m\u001b[0m\n\u001b[0m\u001b[1;32m     27\u001b[0m     \u001b[0mbands\u001b[0m \u001b[0;34m=\u001b[0m \u001b[0md\u001b[0m\u001b[0;34m.\u001b[0m\u001b[0mRasterCount\u001b[0m\u001b[0;34m\u001b[0m\u001b[0;34m\u001b[0m\u001b[0m\n\u001b[1;32m     28\u001b[0m \u001b[0;34m\u001b[0m\u001b[0m\n",
      "\u001b[0;31mAttributeError\u001b[0m: 'NoneType' object has no attribute 'GetMetadata'"
     ]
    }
   ],
   "source": [
    "times = None\n",
    "\n",
    "# Get data\n",
    "datasets = []\n",
    "anomalies = []\n",
    "\n",
    "variables = ['t2m', 'total_precipitation', 'wind_power']\n",
    "for variable in variables:\n",
    "    # Get anomalies and datasets\n",
    "    d, a, t = get_data(variable)\n",
    "    datasets.append(d)\n",
    "    anomalies.append(a)\n"
   ]
  },
  {
   "cell_type": "code",
   "execution_count": null,
   "metadata": {
    "ExecuteTime": {
     "end_time": "2020-03-09T10:40:50.452033Z",
     "start_time": "2020-03-09T10:40:49.275Z"
    },
    "hide_input": false,
    "init_cell": true
   },
   "outputs": [],
   "source": [
    "def make_patch_spines_invisible(ax):\n",
    "    ax.set_frame_on(True)\n",
    "    ax.patch.set_visible(False)\n",
    "    for sp in ax.spines.values():\n",
    "        sp.set_visible(False)\n",
    "\n",
    "def on_dropdown_dates_change(change):\n",
    "    \"\"\"\n",
    "    Handles change event on dropdown_farms widget\n",
    "    \"\"\"\n",
    "    if change['type'] == 'change' and change['name'] == 'value':\n",
    "        for i, variable in enumerate(variables):\n",
    "            #ts_plots[i].clear()\n",
    "            plots[i].clear()\n",
    "            \n",
    "            index = np.where(t==dropdown_dates.value)[0][0]\n",
    "            \n",
    "            images[i] = anomalies[i][index].plot.imshow(ax=plots[i], cmap=colormaps[i],\n",
    "                                                  vmin=vmin_vmax[i][0], vmax=vmin_vmax[i][1],\n",
    "                                                  add_colorbar=False)\n",
    "    \n",
    "            plots[i].set_title(f'{variable} anomalies')\n",
    "            plots[i].set_aspect('equal')\n",
    "            #colorbars.append(fig.colorbar(tmp_img, ax=plots[i], orientation=\"horizontal\"))\n",
    "            plots[i].grid()\n",
    "            \n",
    "        plt.show()\n",
    "        \n",
    "def on_click(event):\n",
    "    \"\"\"\n",
    "    Event handler\n",
    "    \"\"\"\n",
    "    # Event does not apply for time series plot\n",
    "    # Check if the click was in a\n",
    "    if event.inaxes in ts_plots:\n",
    "        return\n",
    "    \n",
    "    for i, ax in enumerate(plots):\n",
    "       \n",
    "        ts_plots[i].clear()\n",
    "    \n",
    "        # Delete last reference point\n",
    "        if len(ax.lines) > 0:\n",
    "            del ax.lines[0]\n",
    "\n",
    "        # Draw a point as a reference\n",
    "        ax.plot(event.xdata, event.ydata,\n",
    "                marker='o', color='red', markersize=7, alpha=0.7)\n",
    "    \n",
    "        _data = datasets[i].sel(longitude=event.xdata,\n",
    "                                latitude=event.ydata,\n",
    "                                method='nearest')\n",
    "            \n",
    "        ts_plots[i].plot(_data.time.data, _data.data, label=f'ERA5 {variables[i]}',\n",
    "                         color=colors[i], lw=1.5, alpha=0.5)\n",
    "        \n",
    "        # Mean\n",
    "        #ts_plots[i].hlines(_data.mean().data, _data.time.data[0], _data.time.data[-1],\n",
    "        #                   colors=colors[i], linestyles='-', lw=1.0, alpha=0.3)\n",
    "    \n",
    "        # 90% and 10% percentile\n",
    "        _quantile = _data.quantile([0.1,0.9]).data\n",
    "        ts_plots[i].hlines(_quantile, _data.time.data[0], _data.time.data[-1],\n",
    "                        colors=colors[i], linestyles='--', lw=1.0, alpha=0.3)\n",
    "    \n",
    "        #bx.legend(loc='best', fontsize='small',\n",
    "        #              fancybox=True, framealpha=0.5)\n",
    "        \n",
    "        ts_plots[i].fill_between(_data.time.data, _quantile[1], _data,\n",
    "                    where=_data >= _quantile[1],\n",
    "                    facecolor=colors[i], interpolate=True, alpha=0.5)\n",
    "    \n",
    "        ts_plots[i].fill_between(_data.time.data, _quantile[0], _data,\n",
    "                    where=_data <= _quantile[0],\n",
    "                    facecolor=colors[i], interpolate=True, alpha=0.5)\n",
    "        \n",
    "        #bx.fill_between(data_array.time.data, _quantile[0], _data,\n",
    "        #                where=_data <= _quantile[0],\n",
    "        #                facecolor='blue', interpolate=True, alpha=0.5)\n",
    "\n",
    "        #title = bx.get_title()\n",
    "        ts_plots[i].set_title('')\n",
    "        \n",
    "        ts_plots[i].yaxis.label.set_color(colors[i])\n",
    "        tkw = dict(size=4, width=1.5)\n",
    "        ts_plots[i].tick_params(axis='y', colors=colors[i], **tkw)\n",
    "        ts_plots[i].set_ylabel(variables[i])\n",
    "\n",
    "        \n",
    "    #ts_plots[0].legend(loc='best', fontsize='small',\n",
    "    #          fancybox=True, framealpha=0.5)\n",
    "    \n",
    "    ts_plots[0].grid()\n",
    "    ts_plots[-1].spines[\"right\"].set_position((\"axes\", 1.07))\n",
    "    make_patch_spines_invisible(ts_plots[-1])\n",
    "    ts_plots[-1].spines[\"right\"].set_visible(True)\n",
    "    fig.canvas.draw()\n",
    "    "
   ]
  },
  {
   "cell_type": "code",
   "execution_count": null,
   "metadata": {
    "ExecuteTime": {
     "end_time": "2020-03-09T10:40:50.456077Z",
     "start_time": "2020-03-09T10:40:49.278Z"
    },
    "hide_input": false,
    "init_cell": true,
    "scrolled": false
   },
   "outputs": [],
   "source": [
    "# Plot objects\n",
    "\n",
    "fig = plt.figure(figsize=(16.7, 7.2))\n",
    "\n",
    "t2m_p = plt.subplot2grid((2, 3), (0, 0), colspan=1)       \n",
    "\n",
    "total_precipitation_p = plt.subplot2grid((2, 3), (0, 1), colspan=1,\n",
    "                                         sharex=t2m_p, sharey=t2m_p)\n",
    "wind_power_p = plt.subplot2grid((2, 3), (0, 2), colspan=1,\n",
    "                                sharex=t2m_p, sharey=t2m_p)\n",
    "\n",
    "plots = [t2m_p, total_precipitation_p, wind_power_p]\n",
    "\n",
    "ts_p = plt.subplot2grid((2, 3), (1, 0), colspan=3)\n",
    "ts_p1 = ts_p.twinx()\n",
    "ts_p2 = ts_p.twinx()\n",
    "\n",
    "ts_plots = [ts_p, ts_p1, ts_p2]\n",
    "\n",
    "ts_p2.spines[\"right\"].set_position((\"axes\", 1.1))\n",
    "make_patch_spines_invisible(ts_p2)\n",
    "ts_p2.spines[\"right\"].set_visible(True)\n",
    "\n",
    "# Connect the canvas with the event\n",
    "cid = fig.canvas.mpl_connect('button_press_event', on_click)\n",
    "\n",
    "variables = ['t2m', 'total_precipitation', 'wind_power']\n",
    "colormaps = ['RdBu_r', 'RdBu', 'BrBG']\n",
    "colors = ['red', 'blue', 'black']\n",
    "vmin_vmax = [[-2.5, 2.5], [-2.5, 2.5], [-4.5, 4.5]]\n",
    "colorbars = []\n",
    "images = []\n",
    "\n",
    "for i, variable in enumerate(variables):\n",
    "    tmp_img = anomalies[i][0].plot.imshow(ax=plots[i], cmap=colormaps[i],\n",
    "                                         vmin=vmin_vmax[i][0], vmax=vmin_vmax[i][1],\n",
    "                                         add_colorbar=False)\n",
    "    \n",
    "    images.append(tmp_img)\n",
    "    \n",
    "    plots[i].set_title(f'{variable} anomalies')\n",
    "    plots[i].set_aspect('equal')\n",
    "    colorbars.append(fig.colorbar(tmp_img, ax=plots[i], orientation=\"horizontal\"))\n",
    "    plots[i].grid()\n",
    "\n",
    "plt.tight_layout()"
   ]
  },
  {
   "cell_type": "markdown",
   "metadata": {
    "hide_input": false
   },
   "source": [
    "## Assimila\n",
    "### ERA 5 2m temperature, total precipitation and wind power analysis"
   ]
  },
  {
   "cell_type": "code",
   "execution_count": null,
   "metadata": {
    "ExecuteTime": {
     "end_time": "2020-03-09T10:40:50.457388Z",
     "start_time": "2020-03-09T10:40:49.282Z"
    },
    "hide_input": false,
    "init_cell": true,
    "scrolled": false
   },
   "outputs": [],
   "source": [
    "# Dropdown widget with all farms\n",
    "dropdown_dates = widgets.Dropdown(\n",
    "    options=t,\n",
    "    value=t[0],\n",
    "    description='Date:',\n",
    "    disabled=False,\n",
    ")\n",
    "\n",
    "dropdown_dates.observe(on_dropdown_dates_change)\n",
    "\n",
    "display(dropdown_dates)\n",
    "plt.show()"
   ]
  },
  {
   "cell_type": "code",
   "execution_count": null,
   "metadata": {},
   "outputs": [],
   "source": []
  }
 ],
 "metadata": {
  "celltoolbar": "Initialization Cell",
  "kernelspec": {
   "display_name": "Python 3",
   "language": "python",
   "name": "python3"
  },
  "language_info": {
   "codemirror_mode": {
    "name": "ipython",
    "version": 3
   },
   "file_extension": ".py",
   "mimetype": "text/x-python",
   "name": "python",
   "nbconvert_exporter": "python",
   "pygments_lexer": "ipython3",
   "version": "3.7.6"
  },
  "toc": {
   "base_numbering": 1,
   "nav_menu": {},
   "number_sections": false,
   "sideBar": false,
   "skip_h1_title": false,
   "title_cell": "Table of Contents",
   "title_sidebar": "Contents",
   "toc_cell": false,
   "toc_position": {},
   "toc_section_display": false,
   "toc_window_display": false
  },
  "varInspector": {
   "cols": {
    "lenName": 16,
    "lenType": 16,
    "lenVar": 40
   },
   "kernels_config": {
    "python": {
     "delete_cmd_postfix": "",
     "delete_cmd_prefix": "del ",
     "library": "var_list.py",
     "varRefreshCmd": "print(var_dic_list())"
    },
    "r": {
     "delete_cmd_postfix": ") ",
     "delete_cmd_prefix": "rm(",
     "library": "var_list.r",
     "varRefreshCmd": "cat(var_dic_list()) "
    }
   },
   "types_to_exclude": [
    "module",
    "function",
    "builtin_function_or_method",
    "instance",
    "_Feature"
   ],
   "window_display": false
  }
 },
 "nbformat": 4,
 "nbformat_minor": 2
}
